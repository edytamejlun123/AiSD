{
  "nbformat": 4,
  "nbformat_minor": 0,
  "metadata": {
    "colab": {
      "provenance": [],
      "authorship_tag": "ABX9TyMQH9+TSJCU7J/QWFRRRP5h",
      "include_colab_link": true
    },
    "kernelspec": {
      "name": "python3",
      "display_name": "Python 3"
    },
    "language_info": {
      "name": "python"
    }
  },
  "cells": [
    {
      "cell_type": "markdown",
      "metadata": {
        "id": "view-in-github",
        "colab_type": "text"
      },
      "source": [
        "<a href=\"https://colab.research.google.com/github/edytamejlun123/AiSD/blob/main/untitled0.ipynb\" target=\"_parent\"><img src=\"https://colab.research.google.com/assets/colab-badge.svg\" alt=\"Open In Colab\"/></a>"
      ]
    },
    {
      "cell_type": "code",
      "source": [
        "from __future__ import annotations\n",
        "from typing import Any, List\n",
        "from graphviz import Digraph"
      ],
      "metadata": {
        "id": "ion6ykMfcMen"
      },
      "execution_count": null,
      "outputs": []
    },
    {
      "cell_type": "code",
      "execution_count": null,
      "metadata": {
        "id": "kXI779M9bkUF"
      },
      "outputs": [],
      "source": [
        "class BinaryNode:\n",
        "    value: Any\n",
        "    left_child: BinaryNode\n",
        "    right_child: BinaryNode\n",
        "\n",
        "    def __init__(self, value: Any) -> None:\n",
        "        self.value = value\n",
        "        self.left_child = None\n",
        "        self.right_child = None\n",
        "\n",
        "    def min(self) -> BinaryNode:\n",
        "        counter = self\n",
        "\n",
        "        while counter.left_child:\n",
        "            counter = counter.left_child\n",
        "\n",
        "        return counter\n",
        "\n",
        "    def __str__(self) -> str:\n",
        "        return f\"{self.value}\"\n",
        "    \n",
        "    def show(self, g = Digraph('g')):\n",
        "      g.node(str(self), str(self), shape='circle')\n",
        "      \n",
        "      if self.left_child:\n",
        "        g.edge(str(self), str(self.left_child), color='pink')\n",
        "        self.left_child.show()\n",
        "      \n",
        "      if self.right_child:\n",
        "        g.edge(str(self), str(self.right_child), color='#b764c2')\n",
        "        self.right_child.show()\n",
        "      \n",
        "      return g"
      ]
    },
    {
      "cell_type": "code",
      "source": [
        "class BinarySearchTree:\n",
        "    root: BinaryNode\n",
        "\n",
        "    def __init__(self, root: BinaryNode) -> None:\n",
        "        self.root = root\n",
        "\n",
        "    def insert(self, value: Any) -> None:\n",
        "        self.root = self.__insert(self.root, value)\n",
        "\n",
        "    def __insert(self, node: BinaryNode, value: Any) -> BinaryNode:\n",
        "        if node:\n",
        "            \n",
        "            if value < node.value:\n",
        "                node.left_child = self.__insert(node.left_child, value)\n",
        "\n",
        "            elif value == node.value:\n",
        "                print(f\"{node.value} -> ta wartość już jest w drzewie.\")\n",
        "\n",
        "            if value > node.value:\n",
        "                node.right_child = self.__insert(node.right_child, value)\n",
        "        \n",
        "        else:\n",
        "            node = BinaryNode(value)\n",
        "        \n",
        "        return node\n",
        "\n",
        "    def insert_list(self, lista: List[Any]) -> None:\n",
        "        for i in lista:\n",
        "            self.insert(i)\n",
        "\n",
        "    def contains(self, value: Any) -> bool:\n",
        "        counter = self.root\n",
        "        \n",
        "        while counter:\n",
        "            if value < counter.value:\n",
        "                counter = counter.left_child\n",
        "\n",
        "            if value > counter.value:\n",
        "                counter = counter.right_child\n",
        "\n",
        "            if value == counter.value:\n",
        "                return True\n",
        "\n",
        "        return False\n",
        "\n",
        "    def remove(self, value: Any) -> None:\n",
        "      if self.contains(value):\n",
        "        self.root = self.__remove(self.root, value)\n",
        "\n",
        "    def __remove(self, node: BinaryNode, value: Any) -> BinaryNode:\n",
        "      if value == node.value:\n",
        "        \n",
        "        if node.left_child and node.right_child:\n",
        "          node.value = node.right_child.min().value\n",
        "          node.right_child = self.__remove(node.right_child, \n",
        "                                           node.right_child.min().value)\n",
        "\n",
        "        elif node.left_child:\n",
        "          node = node.left_child\n",
        "        \n",
        "        elif node.right_child:\n",
        "          node = node.right_child\n",
        "        \n",
        "        else:\n",
        "          node.value = 0\n",
        "        \n",
        "      elif value < node.value:\n",
        "        node.left_child = self.__remove(node.left_child, value)\n",
        "        \n",
        "      else:\n",
        "        node.right_child = self.__remove(node.right_child, value)\n",
        "        \n",
        "      return node\n",
        "    \n",
        "    def show(self) -> None:\n",
        "        self.root.show().render(filename='bst', format='png', cleanup=True, \n",
        "                                view=False)\n",
        "        \n",
        "    def suma(self):\n",
        "        if self.root:\n",
        "            return self._suma(self.root, 0)\n",
        "\n",
        "    def _suma(self, node, temp):\n",
        "        temp += node.value\n",
        "        \n",
        "        if node.left_child:\n",
        "            temp = self._suma(node.left_child, temp)\n",
        "        \n",
        "        if node.right_child:\n",
        "            temp = self._suma(node.right_child, temp)\n",
        "        \n",
        "        return temp"
      ],
      "metadata": {
        "id": "coN9KEBccsty"
      },
      "execution_count": null,
      "outputs": []
    },
    {
      "cell_type": "code",
      "source": [
        "def main() -> None:\n",
        "\n",
        "    tree1 = BinarySearchTree(BinaryNode(8))\n",
        "    tree1.insert(3)\n",
        "    lista = (5, 6, 8, 2, -2, 17)\n",
        "    tree1.insert_list(lista)\n",
        "\n",
        "    tree1.show()\n",
        "\n",
        "    print(tree1.contains(6))\n",
        "    print(tree1.root.min())\n",
        "    print(tree1.suma())"
      ],
      "metadata": {
        "id": "JfRZaLWdc2gB"
      },
      "execution_count": null,
      "outputs": []
    },
    {
      "cell_type": "code",
      "source": [
        "main()"
      ],
      "metadata": {
        "colab": {
          "base_uri": "https://localhost:8080/"
        },
        "id": "M-SExIaxupg1",
        "outputId": "24caf959-1031-49a5-b6ae-95283ecd4450"
      },
      "execution_count": null,
      "outputs": [
        {
          "output_type": "stream",
          "name": "stdout",
          "text": [
            "8 -> ta wartość już jest w drzewie.\n",
            "6\n",
            "-2\n",
            "39\n"
          ]
        }
      ]
    }
  ]
}